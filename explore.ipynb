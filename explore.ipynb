{
 "cells": [
  {
   "cell_type": "markdown",
   "metadata": {},
   "source": [
    "# Wikimedia Discovery Analysis"
   ]
  },
  {
   "cell_type": "markdown",
   "metadata": {},
   "source": [
    "### import libraries"
   ]
  },
  {
   "cell_type": "code",
   "execution_count": 1,
   "metadata": {},
   "outputs": [
    {
     "name": "stderr",
     "output_type": "stream",
     "text": [
      "\n",
      "Attaching package: ‘dplyr’\n",
      "\n",
      "\n",
      "The following objects are masked from ‘package:stats’:\n",
      "\n",
      "    filter, lag\n",
      "\n",
      "\n",
      "The following objects are masked from ‘package:base’:\n",
      "\n",
      "    intersect, setdiff, setequal, union\n",
      "\n",
      "\n"
     ]
    }
   ],
   "source": [
    "library(dplyr)\n",
    "library(ggplot2)\n",
    "library(reshape2)\n",
    "library(readr)"
   ]
  },
  {
   "cell_type": "markdown",
   "metadata": {},
   "source": [
    "### Read Data"
   ]
  },
  {
   "cell_type": "markdown",
   "metadata": {},
   "source": [
    "### The data is stored as csv, the timestamp column is a string where year, month, day, hour, minute second are pasted together.\n",
    "### First we need to convert this to a proper date format to use the timestamps"
   ]
  },
  {
   "cell_type": "code",
   "execution_count": 2,
   "metadata": {},
   "outputs": [],
   "source": [
    "events_log_ts_fixed = suppressMessages(read_csv(\"events_log.csv\")) %>% \n",
    "  mutate(timestamp =  as.POSIXct(as.character(timestamp), \n",
    "                                 format = \"%Y%m%d%H%M%S\", \n",
    "                                 origin = as.Date(\"1970-01-01\")))"
   ]
  },
  {
   "cell_type": "markdown",
   "metadata": {},
   "source": [
    "### Data Overview"
   ]
  },
  {
   "cell_type": "code",
   "execution_count": 3,
   "metadata": {},
   "outputs": [
    {
     "data": {
      "text/html": [
       "<table>\n",
       "<caption>A tibble: 15 × 9</caption>\n",
       "<thead>\n",
       "\t<tr><th scope=col>uuid</th><th scope=col>timestamp</th><th scope=col>session_id</th><th scope=col>group</th><th scope=col>action</th><th scope=col>checkin</th><th scope=col>page_id</th><th scope=col>n_results</th><th scope=col>result_position</th></tr>\n",
       "\t<tr><th scope=col>&lt;chr&gt;</th><th scope=col>&lt;dttm&gt;</th><th scope=col>&lt;chr&gt;</th><th scope=col>&lt;chr&gt;</th><th scope=col>&lt;chr&gt;</th><th scope=col>&lt;dbl&gt;</th><th scope=col>&lt;chr&gt;</th><th scope=col>&lt;dbl&gt;</th><th scope=col>&lt;dbl&gt;</th></tr>\n",
       "</thead>\n",
       "<tbody>\n",
       "\t<tr><td>00000736167c507e8ec225bd9e71f9e5</td><td>2016-03-01 10:38:42</td><td>78245c2c3fba013a</td><td>b</td><td>searchResultPage</td><td> NA</td><td>cbeb66d1bc1f1bc2</td><td> 5</td><td>NA</td></tr>\n",
       "\t<tr><td>00000c69fe345268935463abbfa5d5b3</td><td>2016-03-07 00:52:26</td><td>c559c3be98dca8a4</td><td>a</td><td>searchResultPage</td><td> NA</td><td>eb658e8722aad674</td><td>10</td><td>NA</td></tr>\n",
       "\t<tr><td>00003bfdab715ee59077a3670331b787</td><td>2016-03-02 14:53:05</td><td>760bf89817ce4b08</td><td>a</td><td>checkin         </td><td> 30</td><td>f99a9fc1f7fdd21e</td><td>NA</td><td>NA</td></tr>\n",
       "\t<tr><td>0000465cd7c35ad2bdeafec953e08c1a</td><td>2016-03-02 22:27:01</td><td>fb905603d31b2071</td><td>a</td><td>checkin         </td><td> 60</td><td>e5626962a6939a75</td><td>NA</td><td>10</td></tr>\n",
       "\t<tr><td>000050cbb4ef5b42b16c4d2cf69e6358</td><td>2016-03-02 09:50:23</td><td>c2bf5e5172a892dc</td><td>a</td><td>checkin         </td><td> 30</td><td>787dd6a4c371cbf9</td><td>NA</td><td>NA</td></tr>\n",
       "\t<tr><td>0000a6af2baa5af1be2431e84cb01da1</td><td>2016-03-02 11:29:45</td><td>f6840a9614c527ad</td><td>a</td><td>checkin         </td><td>180</td><td>6fb7b9ea87012975</td><td>NA</td><td>NA</td></tr>\n",
       "\t<tr><td>0000cd61e11d5371adf974703cd4f7e7</td><td>2016-03-01 05:54:57</td><td>51f4d3b6a8688e56</td><td>a</td><td>checkin         </td><td>240</td><td>8ad97e7c85c58e80</td><td>NA</td><td>NA</td></tr>\n",
       "\t<tr><td>000104fe220a5675a270420cd6d4d4ac</td><td>2016-03-02 01:28:45</td><td>485eabe5374f09e4</td><td>b</td><td>searchResultPage</td><td> NA</td><td>4da9a64232ce947b</td><td>15</td><td>NA</td></tr>\n",
       "\t<tr><td>00012e37b74c59a8911514c894402406</td><td>2016-03-03 11:32:55</td><td>91174a537d79a0c7</td><td>a</td><td>checkin         </td><td>180</td><td>dfdff179047ea086</td><td>NA</td><td> 1</td></tr>\n",
       "\t<tr><td>000145fbe6915c7c8acb3a43537ad048</td><td>2016-03-03 22:33:53</td><td>a795756dbad3f61f</td><td>b</td><td>checkin         </td><td>150</td><td>ec0bad0075f48b43</td><td>NA</td><td> 1</td></tr>\n",
       "\t<tr><td>00015c90c82354fba4a40a832a67bb76</td><td>2016-03-07 14:07:07</td><td>9822d8a8dc66a02b</td><td>a</td><td>searchResultPage</td><td> NA</td><td>0f58bcfc65454f23</td><td>20</td><td>NA</td></tr>\n",
       "\t<tr><td>0001885d490057dc95294a5bafc7ad50</td><td>2016-03-03 13:38:18</td><td>e8391bf94cb3a61d</td><td>b</td><td>checkin         </td><td> 30</td><td>db5c1b8998d12efc</td><td>NA</td><td> 1</td></tr>\n",
       "\t<tr><td>0001e32066ce5aceafc0c16c4bdf7cab</td><td>2016-03-05 04:18:04</td><td>58ebf0bc66ff11a6</td><td>a</td><td>searchResultPage</td><td> NA</td><td>e80fe6b7a68c4f98</td><td> 9</td><td>NA</td></tr>\n",
       "\t<tr><td>0001e65d9b7251f5832c1cb755828945</td><td>2016-03-08 17:26:37</td><td>09a1a7b7e0a8baf9</td><td>a</td><td>checkin         </td><td> 10</td><td>c45598e7c5fd0e77</td><td>NA</td><td> 1</td></tr>\n",
       "\t<tr><td>0002064eac5d5f15b4323a05c7777fc5</td><td>2016-03-01 15:45:25</td><td>10cd7b0b03363402</td><td>a</td><td>checkin         </td><td> 30</td><td>9122525c2a12ea12</td><td>NA</td><td> 1</td></tr>\n",
       "</tbody>\n",
       "</table>\n"
      ],
      "text/latex": [
       "A tibble: 15 × 9\n",
       "\\begin{tabular}{lllllllll}\n",
       " uuid & timestamp & session\\_id & group & action & checkin & page\\_id & n\\_results & result\\_position\\\\\n",
       " <chr> & <dttm> & <chr> & <chr> & <chr> & <dbl> & <chr> & <dbl> & <dbl>\\\\\n",
       "\\hline\n",
       "\t 00000736167c507e8ec225bd9e71f9e5 & 2016-03-01 10:38:42 & 78245c2c3fba013a & b & searchResultPage &  NA & cbeb66d1bc1f1bc2 &  5 & NA\\\\\n",
       "\t 00000c69fe345268935463abbfa5d5b3 & 2016-03-07 00:52:26 & c559c3be98dca8a4 & a & searchResultPage &  NA & eb658e8722aad674 & 10 & NA\\\\\n",
       "\t 00003bfdab715ee59077a3670331b787 & 2016-03-02 14:53:05 & 760bf89817ce4b08 & a & checkin          &  30 & f99a9fc1f7fdd21e & NA & NA\\\\\n",
       "\t 0000465cd7c35ad2bdeafec953e08c1a & 2016-03-02 22:27:01 & fb905603d31b2071 & a & checkin          &  60 & e5626962a6939a75 & NA & 10\\\\\n",
       "\t 000050cbb4ef5b42b16c4d2cf69e6358 & 2016-03-02 09:50:23 & c2bf5e5172a892dc & a & checkin          &  30 & 787dd6a4c371cbf9 & NA & NA\\\\\n",
       "\t 0000a6af2baa5af1be2431e84cb01da1 & 2016-03-02 11:29:45 & f6840a9614c527ad & a & checkin          & 180 & 6fb7b9ea87012975 & NA & NA\\\\\n",
       "\t 0000cd61e11d5371adf974703cd4f7e7 & 2016-03-01 05:54:57 & 51f4d3b6a8688e56 & a & checkin          & 240 & 8ad97e7c85c58e80 & NA & NA\\\\\n",
       "\t 000104fe220a5675a270420cd6d4d4ac & 2016-03-02 01:28:45 & 485eabe5374f09e4 & b & searchResultPage &  NA & 4da9a64232ce947b & 15 & NA\\\\\n",
       "\t 00012e37b74c59a8911514c894402406 & 2016-03-03 11:32:55 & 91174a537d79a0c7 & a & checkin          & 180 & dfdff179047ea086 & NA &  1\\\\\n",
       "\t 000145fbe6915c7c8acb3a43537ad048 & 2016-03-03 22:33:53 & a795756dbad3f61f & b & checkin          & 150 & ec0bad0075f48b43 & NA &  1\\\\\n",
       "\t 00015c90c82354fba4a40a832a67bb76 & 2016-03-07 14:07:07 & 9822d8a8dc66a02b & a & searchResultPage &  NA & 0f58bcfc65454f23 & 20 & NA\\\\\n",
       "\t 0001885d490057dc95294a5bafc7ad50 & 2016-03-03 13:38:18 & e8391bf94cb3a61d & b & checkin          &  30 & db5c1b8998d12efc & NA &  1\\\\\n",
       "\t 0001e32066ce5aceafc0c16c4bdf7cab & 2016-03-05 04:18:04 & 58ebf0bc66ff11a6 & a & searchResultPage &  NA & e80fe6b7a68c4f98 &  9 & NA\\\\\n",
       "\t 0001e65d9b7251f5832c1cb755828945 & 2016-03-08 17:26:37 & 09a1a7b7e0a8baf9 & a & checkin          &  10 & c45598e7c5fd0e77 & NA &  1\\\\\n",
       "\t 0002064eac5d5f15b4323a05c7777fc5 & 2016-03-01 15:45:25 & 10cd7b0b03363402 & a & checkin          &  30 & 9122525c2a12ea12 & NA &  1\\\\\n",
       "\\end{tabular}\n"
      ],
      "text/markdown": [
       "\n",
       "A tibble: 15 × 9\n",
       "\n",
       "| uuid &lt;chr&gt; | timestamp &lt;dttm&gt; | session_id &lt;chr&gt; | group &lt;chr&gt; | action &lt;chr&gt; | checkin &lt;dbl&gt; | page_id &lt;chr&gt; | n_results &lt;dbl&gt; | result_position &lt;dbl&gt; |\n",
       "|---|---|---|---|---|---|---|---|---|\n",
       "| 00000736167c507e8ec225bd9e71f9e5 | 2016-03-01 10:38:42 | 78245c2c3fba013a | b | searchResultPage |  NA | cbeb66d1bc1f1bc2 |  5 | NA |\n",
       "| 00000c69fe345268935463abbfa5d5b3 | 2016-03-07 00:52:26 | c559c3be98dca8a4 | a | searchResultPage |  NA | eb658e8722aad674 | 10 | NA |\n",
       "| 00003bfdab715ee59077a3670331b787 | 2016-03-02 14:53:05 | 760bf89817ce4b08 | a | checkin          |  30 | f99a9fc1f7fdd21e | NA | NA |\n",
       "| 0000465cd7c35ad2bdeafec953e08c1a | 2016-03-02 22:27:01 | fb905603d31b2071 | a | checkin          |  60 | e5626962a6939a75 | NA | 10 |\n",
       "| 000050cbb4ef5b42b16c4d2cf69e6358 | 2016-03-02 09:50:23 | c2bf5e5172a892dc | a | checkin          |  30 | 787dd6a4c371cbf9 | NA | NA |\n",
       "| 0000a6af2baa5af1be2431e84cb01da1 | 2016-03-02 11:29:45 | f6840a9614c527ad | a | checkin          | 180 | 6fb7b9ea87012975 | NA | NA |\n",
       "| 0000cd61e11d5371adf974703cd4f7e7 | 2016-03-01 05:54:57 | 51f4d3b6a8688e56 | a | checkin          | 240 | 8ad97e7c85c58e80 | NA | NA |\n",
       "| 000104fe220a5675a270420cd6d4d4ac | 2016-03-02 01:28:45 | 485eabe5374f09e4 | b | searchResultPage |  NA | 4da9a64232ce947b | 15 | NA |\n",
       "| 00012e37b74c59a8911514c894402406 | 2016-03-03 11:32:55 | 91174a537d79a0c7 | a | checkin          | 180 | dfdff179047ea086 | NA |  1 |\n",
       "| 000145fbe6915c7c8acb3a43537ad048 | 2016-03-03 22:33:53 | a795756dbad3f61f | b | checkin          | 150 | ec0bad0075f48b43 | NA |  1 |\n",
       "| 00015c90c82354fba4a40a832a67bb76 | 2016-03-07 14:07:07 | 9822d8a8dc66a02b | a | searchResultPage |  NA | 0f58bcfc65454f23 | 20 | NA |\n",
       "| 0001885d490057dc95294a5bafc7ad50 | 2016-03-03 13:38:18 | e8391bf94cb3a61d | b | checkin          |  30 | db5c1b8998d12efc | NA |  1 |\n",
       "| 0001e32066ce5aceafc0c16c4bdf7cab | 2016-03-05 04:18:04 | 58ebf0bc66ff11a6 | a | searchResultPage |  NA | e80fe6b7a68c4f98 |  9 | NA |\n",
       "| 0001e65d9b7251f5832c1cb755828945 | 2016-03-08 17:26:37 | 09a1a7b7e0a8baf9 | a | checkin          |  10 | c45598e7c5fd0e77 | NA |  1 |\n",
       "| 0002064eac5d5f15b4323a05c7777fc5 | 2016-03-01 15:45:25 | 10cd7b0b03363402 | a | checkin          |  30 | 9122525c2a12ea12 | NA |  1 |\n",
       "\n"
      ],
      "text/plain": [
       "   uuid                             timestamp           session_id       group\n",
       "1  00000736167c507e8ec225bd9e71f9e5 2016-03-01 10:38:42 78245c2c3fba013a b    \n",
       "2  00000c69fe345268935463abbfa5d5b3 2016-03-07 00:52:26 c559c3be98dca8a4 a    \n",
       "3  00003bfdab715ee59077a3670331b787 2016-03-02 14:53:05 760bf89817ce4b08 a    \n",
       "4  0000465cd7c35ad2bdeafec953e08c1a 2016-03-02 22:27:01 fb905603d31b2071 a    \n",
       "5  000050cbb4ef5b42b16c4d2cf69e6358 2016-03-02 09:50:23 c2bf5e5172a892dc a    \n",
       "6  0000a6af2baa5af1be2431e84cb01da1 2016-03-02 11:29:45 f6840a9614c527ad a    \n",
       "7  0000cd61e11d5371adf974703cd4f7e7 2016-03-01 05:54:57 51f4d3b6a8688e56 a    \n",
       "8  000104fe220a5675a270420cd6d4d4ac 2016-03-02 01:28:45 485eabe5374f09e4 b    \n",
       "9  00012e37b74c59a8911514c894402406 2016-03-03 11:32:55 91174a537d79a0c7 a    \n",
       "10 000145fbe6915c7c8acb3a43537ad048 2016-03-03 22:33:53 a795756dbad3f61f b    \n",
       "11 00015c90c82354fba4a40a832a67bb76 2016-03-07 14:07:07 9822d8a8dc66a02b a    \n",
       "12 0001885d490057dc95294a5bafc7ad50 2016-03-03 13:38:18 e8391bf94cb3a61d b    \n",
       "13 0001e32066ce5aceafc0c16c4bdf7cab 2016-03-05 04:18:04 58ebf0bc66ff11a6 a    \n",
       "14 0001e65d9b7251f5832c1cb755828945 2016-03-08 17:26:37 09a1a7b7e0a8baf9 a    \n",
       "15 0002064eac5d5f15b4323a05c7777fc5 2016-03-01 15:45:25 10cd7b0b03363402 a    \n",
       "   action           checkin page_id          n_results result_position\n",
       "1  searchResultPage  NA     cbeb66d1bc1f1bc2  5        NA             \n",
       "2  searchResultPage  NA     eb658e8722aad674 10        NA             \n",
       "3  checkin           30     f99a9fc1f7fdd21e NA        NA             \n",
       "4  checkin           60     e5626962a6939a75 NA        10             \n",
       "5  checkin           30     787dd6a4c371cbf9 NA        NA             \n",
       "6  checkin          180     6fb7b9ea87012975 NA        NA             \n",
       "7  checkin          240     8ad97e7c85c58e80 NA        NA             \n",
       "8  searchResultPage  NA     4da9a64232ce947b 15        NA             \n",
       "9  checkin          180     dfdff179047ea086 NA         1             \n",
       "10 checkin          150     ec0bad0075f48b43 NA         1             \n",
       "11 searchResultPage  NA     0f58bcfc65454f23 20        NA             \n",
       "12 checkin           30     db5c1b8998d12efc NA         1             \n",
       "13 searchResultPage  NA     e80fe6b7a68c4f98  9        NA             \n",
       "14 checkin           10     c45598e7c5fd0e77 NA         1             \n",
       "15 checkin           30     9122525c2a12ea12 NA         1             "
      ]
     },
     "metadata": {},
     "output_type": "display_data"
    },
    {
     "data": {
      "text/plain": [
       "   timestamp                      checkin         n_results     \n",
       " Min.   :2016-03-01 00:00:01   Min.   : 10.00   Min.   :  0.00  \n",
       " 1st Qu.:2016-03-02 16:47:05   1st Qu.: 20.00   1st Qu.:  2.00  \n",
       " Median :2016-03-04 12:10:52   Median : 50.00   Median : 20.00  \n",
       " Mean   :2016-03-04 18:39:43   Mean   : 97.19   Mean   : 13.21  \n",
       " 3rd Qu.:2016-03-06 22:01:09   3rd Qu.:150.00   3rd Qu.: 20.00  \n",
       " Max.   :2016-03-08 20:24:32   Max.   :420.00   Max.   :500.00  \n",
       " NA's   :4                     NA's   :176341   NA's   :263931  \n",
       " result_position  \n",
       " Min.   :   1.00  \n",
       " 1st Qu.:   1.00  \n",
       " Median :   1.00  \n",
       " Mean   :   2.99  \n",
       " 3rd Qu.:   2.00  \n",
       " Max.   :4103.00  \n",
       " NA's   :169683   "
      ]
     },
     "metadata": {},
     "output_type": "display_data"
    }
   ],
   "source": [
    "head(events_log_ts_fixed, 15)\n",
    "summary(events_log_ts_fixed  %>% \n",
    "        select(-c(uuid, session_id, group, action, page_id)))"
   ]
  },
  {
   "cell_type": "markdown",
   "metadata": {},
   "source": [
    "### We can observe the dataset has a lot of NA values in multiple comlumns, this is expected as the \"n_results\", \"result_position\", \"checkin\" are expected to be missing from rows where these values  do not correspond to them. E.g for \"checkin\" event we will not have \"n_results\" "
   ]
  },
  {
   "cell_type": "markdown",
   "metadata": {},
   "source": [
    "### Which results do people tend to try first? How does it change day-to-day?"
   ]
  },
  {
   "cell_type": "code",
   "execution_count": 4,
   "metadata": {},
   "outputs": [],
   "source": [
    "result_position_df = events_log_ts_fixed %>% \n",
    "  mutate(date = as.Date(timestamp)) %>% \n",
    "  select(result_position, date) %>% na.omit()"
   ]
  },
  {
   "cell_type": "code",
   "execution_count": 5,
   "metadata": {},
   "outputs": [
    {
     "data": {
      "text/html": [
       "<table>\n",
       "<caption>A data.frame: 10 × 2</caption>\n",
       "<thead>\n",
       "\t<tr><th></th><th scope=col>result_position</th><th scope=col>frequency</th></tr>\n",
       "\t<tr><th></th><th scope=col>&lt;fct&gt;</th><th scope=col>&lt;int&gt;</th></tr>\n",
       "</thead>\n",
       "<tbody>\n",
       "\t<tr><th scope=row>1</th><td>1 </td><td>149352</td></tr>\n",
       "\t<tr><th scope=row>2</th><td>2 </td><td> 31779</td></tr>\n",
       "\t<tr><th scope=row>3</th><td>3 </td><td> 16234</td></tr>\n",
       "\t<tr><th scope=row>4</th><td>4 </td><td>  8698</td></tr>\n",
       "\t<tr><th scope=row>5</th><td>5 </td><td>  5334</td></tr>\n",
       "\t<tr><th scope=row>6</th><td>6 </td><td>  3943</td></tr>\n",
       "\t<tr><th scope=row>7</th><td>7 </td><td>  2833</td></tr>\n",
       "\t<tr><th scope=row>8</th><td>8 </td><td>  1775</td></tr>\n",
       "\t<tr><th scope=row>9</th><td>9 </td><td>  1380</td></tr>\n",
       "\t<tr><th scope=row>10</th><td>10</td><td>  1396</td></tr>\n",
       "</tbody>\n",
       "</table>\n"
      ],
      "text/latex": [
       "A data.frame: 10 × 2\n",
       "\\begin{tabular}{r|ll}\n",
       "  & result\\_position & frequency\\\\\n",
       "  & <fct> & <int>\\\\\n",
       "\\hline\n",
       "\t1 & 1  & 149352\\\\\n",
       "\t2 & 2  &  31779\\\\\n",
       "\t3 & 3  &  16234\\\\\n",
       "\t4 & 4  &   8698\\\\\n",
       "\t5 & 5  &   5334\\\\\n",
       "\t6 & 6  &   3943\\\\\n",
       "\t7 & 7  &   2833\\\\\n",
       "\t8 & 8  &   1775\\\\\n",
       "\t9 & 9  &   1380\\\\\n",
       "\t10 & 10 &   1396\\\\\n",
       "\\end{tabular}\n"
      ],
      "text/markdown": [
       "\n",
       "A data.frame: 10 × 2\n",
       "\n",
       "| <!--/--> | result_position &lt;fct&gt; | frequency &lt;int&gt; |\n",
       "|---|---|---|\n",
       "| 1 | 1  | 149352 |\n",
       "| 2 | 2  |  31779 |\n",
       "| 3 | 3  |  16234 |\n",
       "| 4 | 4  |   8698 |\n",
       "| 5 | 5  |   5334 |\n",
       "| 6 | 6  |   3943 |\n",
       "| 7 | 7  |   2833 |\n",
       "| 8 | 8  |   1775 |\n",
       "| 9 | 9  |   1380 |\n",
       "| 10 | 10 |   1396 |\n",
       "\n"
      ],
      "text/plain": [
       "   result_position frequency\n",
       "1  1               149352   \n",
       "2  2                31779   \n",
       "3  3                16234   \n",
       "4  4                 8698   \n",
       "5  5                 5334   \n",
       "6  6                 3943   \n",
       "7  7                 2833   \n",
       "8  8                 1775   \n",
       "9  9                 1380   \n",
       "10 10                1396   "
      ]
     },
     "metadata": {},
     "output_type": "display_data"
    }
   ],
   "source": [
    "result_position_df$result_position %>% table %>% as.data.frame %>% \n",
    "    setNames(c(\"result_position\", \"frequency\"))  %>% head(10)"
   ]
  },
  {
   "cell_type": "markdown",
   "metadata": {},
   "source": [
    "#### From the above table we can observe that a large no. of the users choose the 1st result "
   ]
  },
  {
   "cell_type": "markdown",
   "metadata": {},
   "source": [
    "#### To find out result position which is mostly preferred by users, we only need the frequnency of the result positions"
   ]
  },
  {
   "cell_type": "code",
   "execution_count": 6,
   "metadata": {},
   "outputs": [
    {
     "name": "stderr",
     "output_type": "stream",
     "text": [
      "`summarise()` ungrouping output (override with `.groups` argument)\n",
      "\n"
     ]
    }
   ],
   "source": [
    "# Get the summarised data for preffered top 10 results\n",
    "result_position_overall = result_position_df %>% \n",
    "  group_by(result_position) %>%\n",
    "  summarise(count = n()) %>% \n",
    "    mutate(percentage_count = 100*(count/sum(count))) %>% \n",
    "    top_n(percentage_count, n = 20) %>% \n",
    "    ungroup() %>% as.data.frame()"
   ]
  },
  {
   "cell_type": "code",
   "execution_count": 7,
   "metadata": {},
   "outputs": [
    {
     "data": {
      "text/html": [
       "<table>\n",
       "<caption>A data.frame: 10 × 3</caption>\n",
       "<thead>\n",
       "\t<tr><th></th><th scope=col>result_position</th><th scope=col>count</th><th scope=col>percentage_count</th></tr>\n",
       "\t<tr><th></th><th scope=col>&lt;dbl&gt;</th><th scope=col>&lt;int&gt;</th><th scope=col>&lt;dbl&gt;</th></tr>\n",
       "</thead>\n",
       "<tbody>\n",
       "\t<tr><th scope=row>1</th><td> 1</td><td>149352</td><td>64.8004165</td></tr>\n",
       "\t<tr><th scope=row>2</th><td> 2</td><td> 31779</td><td>13.7881812</td></tr>\n",
       "\t<tr><th scope=row>3</th><td> 3</td><td> 16234</td><td> 7.0435613</td></tr>\n",
       "\t<tr><th scope=row>4</th><td> 4</td><td>  8698</td><td> 3.7738632</td></tr>\n",
       "\t<tr><th scope=row>5</th><td> 5</td><td>  5334</td><td> 2.3143006</td></tr>\n",
       "\t<tr><th scope=row>6</th><td> 6</td><td>  3943</td><td> 1.7107775</td></tr>\n",
       "\t<tr><th scope=row>7</th><td> 7</td><td>  2833</td><td> 1.2291739</td></tr>\n",
       "\t<tr><th scope=row>8</th><td> 8</td><td>  1775</td><td> 0.7701319</td></tr>\n",
       "\t<tr><th scope=row>9</th><td> 9</td><td>  1380</td><td> 0.5987504</td></tr>\n",
       "\t<tr><th scope=row>10</th><td>10</td><td>  1396</td><td> 0.6056925</td></tr>\n",
       "</tbody>\n",
       "</table>\n"
      ],
      "text/latex": [
       "A data.frame: 10 × 3\n",
       "\\begin{tabular}{r|lll}\n",
       "  & result\\_position & count & percentage\\_count\\\\\n",
       "  & <dbl> & <int> & <dbl>\\\\\n",
       "\\hline\n",
       "\t1 &  1 & 149352 & 64.8004165\\\\\n",
       "\t2 &  2 &  31779 & 13.7881812\\\\\n",
       "\t3 &  3 &  16234 &  7.0435613\\\\\n",
       "\t4 &  4 &   8698 &  3.7738632\\\\\n",
       "\t5 &  5 &   5334 &  2.3143006\\\\\n",
       "\t6 &  6 &   3943 &  1.7107775\\\\\n",
       "\t7 &  7 &   2833 &  1.2291739\\\\\n",
       "\t8 &  8 &   1775 &  0.7701319\\\\\n",
       "\t9 &  9 &   1380 &  0.5987504\\\\\n",
       "\t10 & 10 &   1396 &  0.6056925\\\\\n",
       "\\end{tabular}\n"
      ],
      "text/markdown": [
       "\n",
       "A data.frame: 10 × 3\n",
       "\n",
       "| <!--/--> | result_position &lt;dbl&gt; | count &lt;int&gt; | percentage_count &lt;dbl&gt; |\n",
       "|---|---|---|---|\n",
       "| 1 |  1 | 149352 | 64.8004165 |\n",
       "| 2 |  2 |  31779 | 13.7881812 |\n",
       "| 3 |  3 |  16234 |  7.0435613 |\n",
       "| 4 |  4 |   8698 |  3.7738632 |\n",
       "| 5 |  5 |   5334 |  2.3143006 |\n",
       "| 6 |  6 |   3943 |  1.7107775 |\n",
       "| 7 |  7 |   2833 |  1.2291739 |\n",
       "| 8 |  8 |   1775 |  0.7701319 |\n",
       "| 9 |  9 |   1380 |  0.5987504 |\n",
       "| 10 | 10 |   1396 |  0.6056925 |\n",
       "\n"
      ],
      "text/plain": [
       "   result_position count  percentage_count\n",
       "1   1              149352 64.8004165      \n",
       "2   2               31779 13.7881812      \n",
       "3   3               16234  7.0435613      \n",
       "4   4                8698  3.7738632      \n",
       "5   5                5334  2.3143006      \n",
       "6   6                3943  1.7107775      \n",
       "7   7                2833  1.2291739      \n",
       "8   8                1775  0.7701319      \n",
       "9   9                1380  0.5987504      \n",
       "10 10                1396  0.6056925      "
      ]
     },
     "metadata": {},
     "output_type": "display_data"
    }
   ],
   "source": [
    "result_position_overall %>% head(10)"
   ]
  },
  {
   "cell_type": "code",
   "execution_count": 8,
   "metadata": {},
   "outputs": [
    {
     "data": {
      "image/png": "[encoded data removed]",
      "text/plain": [
       "plot without title"
      ]
     },
     "metadata": {
      "image/png": {
       "height": 420,
       "width": 420
      }
     },
     "output_type": "display_data"
    }
   ],
   "source": [
    "ggplot(data= result_position_overall, \n",
    "       aes(x=factor(result_position), y=percentage_count)) + \n",
    "  geom_bar(stat=\"identity\") + ylab(\"Users clicking the result %\") + xlab(\"result position\") +\n",
    "  theme(axis.text.x = element_text(face = \"bold\", size = 10),\n",
    "        axis.text.y = element_text(face = \"bold\", size = 10),\n",
    "        plot.title = element_text(hjust = 0.5)) +\n",
    "  ggtitle(\"Frequency of Users clicking the result number\")"
   ]
  },
  {
   "cell_type": "markdown",
   "metadata": {},
   "source": [
    "#### Around 65% of users click on the first shown result, followed by 14% of the users choosing the second one. Amount of users going beyond the 7th result is negligible. "
   ]
  },
  {
   "cell_type": "code",
   "execution_count": 9,
   "metadata": {},
   "outputs": [
    {
     "name": "stderr",
     "output_type": "stream",
     "text": [
      "`summarise()` regrouping output by 'date' (override with `.groups` argument)\n",
      "\n"
     ]
    }
   ],
   "source": [
    "result_position_by_date = result_position_df %>% \n",
    "  group_by(date, result_position) %>%\n",
    "  summarise(count = n()) %>% \n",
    "    mutate(percentage_count = 100*(count/sum(count))) %>% \n",
    "    top_n(percentage_count, n = 10) %>% \n",
    "    ungroup() %>% as.data.frame()"
   ]
  },
  {
   "cell_type": "code",
   "execution_count": 10,
   "metadata": {},
   "outputs": [
    {
     "data": {
      "text/html": [
       "<table>\n",
       "<caption>A data.frame: 10 × 4</caption>\n",
       "<thead>\n",
       "\t<tr><th></th><th scope=col>date</th><th scope=col>result_position</th><th scope=col>count</th><th scope=col>percentage_count</th></tr>\n",
       "\t<tr><th></th><th scope=col>&lt;date&gt;</th><th scope=col>&lt;dbl&gt;</th><th scope=col>&lt;int&gt;</th><th scope=col>&lt;dbl&gt;</th></tr>\n",
       "</thead>\n",
       "<tbody>\n",
       "\t<tr><th scope=row>1</th><td>2016-02-29</td><td> 1</td><td>2813</td><td>65.8011696</td></tr>\n",
       "\t<tr><th scope=row>2</th><td>2016-02-29</td><td> 2</td><td> 669</td><td>15.6491228</td></tr>\n",
       "\t<tr><th scope=row>3</th><td>2016-02-29</td><td> 3</td><td> 236</td><td> 5.5204678</td></tr>\n",
       "\t<tr><th scope=row>4</th><td>2016-02-29</td><td> 4</td><td> 162</td><td> 3.7894737</td></tr>\n",
       "\t<tr><th scope=row>5</th><td>2016-02-29</td><td> 5</td><td>  96</td><td> 2.2456140</td></tr>\n",
       "\t<tr><th scope=row>6</th><td>2016-02-29</td><td> 6</td><td>  50</td><td> 1.1695906</td></tr>\n",
       "\t<tr><th scope=row>7</th><td>2016-02-29</td><td> 7</td><td>  26</td><td> 0.6081871</td></tr>\n",
       "\t<tr><th scope=row>8</th><td>2016-02-29</td><td>10</td><td>  38</td><td> 0.8888889</td></tr>\n",
       "\t<tr><th scope=row>9</th><td>2016-02-29</td><td>11</td><td>  28</td><td> 0.6549708</td></tr>\n",
       "\t<tr><th scope=row>10</th><td>2016-02-29</td><td>13</td><td>  58</td><td> 1.3567251</td></tr>\n",
       "</tbody>\n",
       "</table>\n"
      ],
      "text/latex": [
       "A data.frame: 10 × 4\n",
       "\\begin{tabular}{r|llll}\n",
       "  & date & result\\_position & count & percentage\\_count\\\\\n",
       "  & <date> & <dbl> & <int> & <dbl>\\\\\n",
       "\\hline\n",
       "\t1 & 2016-02-29 &  1 & 2813 & 65.8011696\\\\\n",
       "\t2 & 2016-02-29 &  2 &  669 & 15.6491228\\\\\n",
       "\t3 & 2016-02-29 &  3 &  236 &  5.5204678\\\\\n",
       "\t4 & 2016-02-29 &  4 &  162 &  3.7894737\\\\\n",
       "\t5 & 2016-02-29 &  5 &   96 &  2.2456140\\\\\n",
       "\t6 & 2016-02-29 &  6 &   50 &  1.1695906\\\\\n",
       "\t7 & 2016-02-29 &  7 &   26 &  0.6081871\\\\\n",
       "\t8 & 2016-02-29 & 10 &   38 &  0.8888889\\\\\n",
       "\t9 & 2016-02-29 & 11 &   28 &  0.6549708\\\\\n",
       "\t10 & 2016-02-29 & 13 &   58 &  1.3567251\\\\\n",
       "\\end{tabular}\n"
      ],
      "text/markdown": [
       "\n",
       "A data.frame: 10 × 4\n",
       "\n",
       "| <!--/--> | date &lt;date&gt; | result_position &lt;dbl&gt; | count &lt;int&gt; | percentage_count &lt;dbl&gt; |\n",
       "|---|---|---|---|---|\n",
       "| 1 | 2016-02-29 |  1 | 2813 | 65.8011696 |\n",
       "| 2 | 2016-02-29 |  2 |  669 | 15.6491228 |\n",
       "| 3 | 2016-02-29 |  3 |  236 |  5.5204678 |\n",
       "| 4 | 2016-02-29 |  4 |  162 |  3.7894737 |\n",
       "| 5 | 2016-02-29 |  5 |   96 |  2.2456140 |\n",
       "| 6 | 2016-02-29 |  6 |   50 |  1.1695906 |\n",
       "| 7 | 2016-02-29 |  7 |   26 |  0.6081871 |\n",
       "| 8 | 2016-02-29 | 10 |   38 |  0.8888889 |\n",
       "| 9 | 2016-02-29 | 11 |   28 |  0.6549708 |\n",
       "| 10 | 2016-02-29 | 13 |   58 |  1.3567251 |\n",
       "\n"
      ],
      "text/plain": [
       "   date       result_position count percentage_count\n",
       "1  2016-02-29  1              2813  65.8011696      \n",
       "2  2016-02-29  2               669  15.6491228      \n",
       "3  2016-02-29  3               236   5.5204678      \n",
       "4  2016-02-29  4               162   3.7894737      \n",
       "5  2016-02-29  5                96   2.2456140      \n",
       "6  2016-02-29  6                50   1.1695906      \n",
       "7  2016-02-29  7                26   0.6081871      \n",
       "8  2016-02-29 10                38   0.8888889      \n",
       "9  2016-02-29 11                28   0.6549708      \n",
       "10 2016-02-29 13                58   1.3567251      "
      ]
     },
     "metadata": {},
     "output_type": "display_data"
    }
   ],
   "source": [
    "result_position_by_date %>% head(10)"
   ]
  },
  {
   "cell_type": "code",
   "execution_count": 11,
   "metadata": {},
   "outputs": [
    {
     "data": {
      "image/png": "[encoded data removed]",
      "text/plain": [
       "plot without title"
      ]
     },
     "metadata": {
      "image/png": {
       "height": 420,
       "width": 420
      }
     },
     "output_type": "display_data"
    }
   ],
   "source": [
    "ggplot(data= result_position_by_date, \n",
    "       aes(x=factor(result_position), y=percentage_count)) + \n",
    "  geom_bar(stat=\"identity\") + ylab(\"Users clicking the result %\") + xlab(\"result position\") +\n",
    "  facet_wrap(\"date\", scales = \"free\") + \n",
    "  theme(axis.text.x = element_text(face = \"bold\", size = 10),\n",
    "        axis.text.y = element_text(face = \"bold\", size = 10),\n",
    "        plot.title = element_text(hjust = 0.5)) +\n",
    "  ggtitle(\"Frequency of Users clicking the result number by date\")"
   ]
  },
  {
   "cell_type": "markdown",
   "metadata": {},
   "source": [
    "#### The prefernce of the result position doesn't change much on day by day basis as compared to overall figures, for all the days the top preferred result is the 1st one ~65% and beyond the 7th result it's negligible. "
   ]
  },
  {
   "cell_type": "code",
   "execution_count": 12,
   "metadata": {},
   "outputs": [
    {
     "name": "stderr",
     "output_type": "stream",
     "text": [
      "`summarise()` ungrouping output (override with `.groups` argument)\n",
      "\n"
     ]
    }
   ],
   "source": [
    "suppressWarnings({\n",
    "events_session_group = \n",
    "  events_log_ts_fixed %>% \n",
    "  mutate(date = as.Date(timestamp)) %>% \n",
    "  group_by(session_id) %>% \n",
    "  arrange(timestamp) %>%\n",
    "  summarise(user_group = group[1],\n",
    "            date = as.Date(timestamp[1]),\n",
    "            session_time = max(checkin, na.rm = T),\n",
    "            minimum_n_results = min(n_results, na.rm = T),\n",
    "            num_serp_visits = sum(action == \"searchResultPage\"),\n",
    "            num_results_clicked = sum(action == \"visitPage\"),\n",
    "            order_of_events = paste(unique(action), collapse = \"-->\"),\n",
    "            num_unique_pages_visited = length(unique(page_id))) %>% \n",
    "  mutate(session_time = ifelse(session_time == -Inf, NA, session_time),\n",
    "         minimum_n_results = ifelse(minimum_n_results == Inf, NA, minimum_n_results)) %>% as.data.frame})"
   ]
  },
  {
   "cell_type": "markdown",
   "metadata": {},
   "source": [
    "### In the above block of code, we summarise the dataset by session ID's to get the metrics per session. \n",
    "### Here we introduce some new variables :\n",
    "#### 1. session_time : the approximate time of each session. \n",
    "#### 2. minimum_num_rusults : no. of results returned atleast in a session, could be from multiple search queries. \n",
    "#### 3. num_serp_visits : number of times the search page was visited in a single session \n",
    "#### 4. num_results_clicked : number of times a user clicked on a  search result in a single session\n",
    "#### 5. order_of_events : the order in which a session progressed, this is mainly to check if each session followed the ideal order of search -> click on result -> visited page\n",
    "#### 6. num_unique_pages_visited : number of different pages visited in a single session\n"
   ]
  },
  {
   "cell_type": "code",
   "execution_count": 13,
   "metadata": {},
   "outputs": [
    {
     "data": {
      "text/html": [
       "<table>\n",
       "<caption>A data.frame: 10 × 8</caption>\n",
       "<thead>\n",
       "\t<tr><th></th><th scope=col>user_group</th><th scope=col>date</th><th scope=col>session_time</th><th scope=col>minimum_n_results</th><th scope=col>num_serp_visits</th><th scope=col>num_results_clicked</th><th scope=col>order_of_events</th><th scope=col>num_unique_pages_visited</th></tr>\n",
       "\t<tr><th></th><th scope=col>&lt;chr&gt;</th><th scope=col>&lt;date&gt;</th><th scope=col>&lt;dbl&gt;</th><th scope=col>&lt;dbl&gt;</th><th scope=col>&lt;int&gt;</th><th scope=col>&lt;int&gt;</th><th scope=col>&lt;chr&gt;</th><th scope=col>&lt;int&gt;</th></tr>\n",
       "</thead>\n",
       "<tbody>\n",
       "\t<tr><th scope=row>1</th><td>a</td><td>2016-03-01</td><td> NA</td><td>0</td><td>484</td><td> 0</td><td>searchResultPage                      </td><td>484</td></tr>\n",
       "\t<tr><th scope=row>2</th><td>a</td><td>2016-03-03</td><td> NA</td><td>0</td><td>221</td><td> 0</td><td>searchResultPage                      </td><td>221</td></tr>\n",
       "\t<tr><th scope=row>3</th><td>a</td><td>2016-03-04</td><td> NA</td><td>0</td><td>198</td><td> 0</td><td>searchResultPage                      </td><td>198</td></tr>\n",
       "\t<tr><th scope=row>4</th><td>a</td><td>2016-03-04</td><td>180</td><td>8</td><td>107</td><td>75</td><td>searchResultPage--&gt;visitPage--&gt;checkin</td><td>182</td></tr>\n",
       "\t<tr><th scope=row>5</th><td>a</td><td>2016-03-05</td><td>180</td><td>0</td><td>129</td><td>21</td><td>searchResultPage--&gt;visitPage--&gt;checkin</td><td>150</td></tr>\n",
       "\t<tr><th scope=row>6</th><td>a</td><td>2016-02-29</td><td> NA</td><td>0</td><td>130</td><td> 0</td><td>searchResultPage                      </td><td>130</td></tr>\n",
       "\t<tr><th scope=row>7</th><td>a</td><td>2016-03-03</td><td> 60</td><td>4</td><td>106</td><td>12</td><td>searchResultPage--&gt;visitPage--&gt;checkin</td><td>118</td></tr>\n",
       "\t<tr><th scope=row>8</th><td>a</td><td>2016-03-03</td><td> NA</td><td>0</td><td>113</td><td> 0</td><td>searchResultPage                      </td><td>113</td></tr>\n",
       "\t<tr><th scope=row>9</th><td>a</td><td>2016-03-02</td><td> NA</td><td>4</td><td> 59</td><td>51</td><td><span style=white-space:pre-wrap>searchResultPage--&gt;visitPage          </span></td><td>110</td></tr>\n",
       "\t<tr><th scope=row>10</th><td>a</td><td>2016-03-07</td><td> NA</td><td>0</td><td>106</td><td> 0</td><td>searchResultPage                      </td><td>106</td></tr>\n",
       "</tbody>\n",
       "</table>\n"
      ],
      "text/latex": [
       "A data.frame: 10 × 8\n",
       "\\begin{tabular}{r|llllllll}\n",
       "  & user\\_group & date & session\\_time & minimum\\_n\\_results & num\\_serp\\_visits & num\\_results\\_clicked & order\\_of\\_events & num\\_unique\\_pages\\_visited\\\\\n",
       "  & <chr> & <date> & <dbl> & <dbl> & <int> & <int> & <chr> & <int>\\\\\n",
       "\\hline\n",
       "\t1 & a & 2016-03-01 &  NA & 0 & 484 &  0 & searchResultPage                       & 484\\\\\n",
       "\t2 & a & 2016-03-03 &  NA & 0 & 221 &  0 & searchResultPage                       & 221\\\\\n",
       "\t3 & a & 2016-03-04 &  NA & 0 & 198 &  0 & searchResultPage                       & 198\\\\\n",
       "\t4 & a & 2016-03-04 & 180 & 8 & 107 & 75 & searchResultPage-->visitPage-->checkin & 182\\\\\n",
       "\t5 & a & 2016-03-05 & 180 & 0 & 129 & 21 & searchResultPage-->visitPage-->checkin & 150\\\\\n",
       "\t6 & a & 2016-02-29 &  NA & 0 & 130 &  0 & searchResultPage                       & 130\\\\\n",
       "\t7 & a & 2016-03-03 &  60 & 4 & 106 & 12 & searchResultPage-->visitPage-->checkin & 118\\\\\n",
       "\t8 & a & 2016-03-03 &  NA & 0 & 113 &  0 & searchResultPage                       & 113\\\\\n",
       "\t9 & a & 2016-03-02 &  NA & 4 &  59 & 51 & searchResultPage-->visitPage           & 110\\\\\n",
       "\t10 & a & 2016-03-07 &  NA & 0 & 106 &  0 & searchResultPage                       & 106\\\\\n",
       "\\end{tabular}\n"
      ],
      "text/markdown": [
       "\n",
       "A data.frame: 10 × 8\n",
       "\n",
       "| <!--/--> | user_group &lt;chr&gt; | date &lt;date&gt; | session_time &lt;dbl&gt; | minimum_n_results &lt;dbl&gt; | num_serp_visits &lt;int&gt; | num_results_clicked &lt;int&gt; | order_of_events &lt;chr&gt; | num_unique_pages_visited &lt;int&gt; |\n",
       "|---|---|---|---|---|---|---|---|---|\n",
       "| 1 | a | 2016-03-01 |  NA | 0 | 484 |  0 | searchResultPage                       | 484 |\n",
       "| 2 | a | 2016-03-03 |  NA | 0 | 221 |  0 | searchResultPage                       | 221 |\n",
       "| 3 | a | 2016-03-04 |  NA | 0 | 198 |  0 | searchResultPage                       | 198 |\n",
       "| 4 | a | 2016-03-04 | 180 | 8 | 107 | 75 | searchResultPage--&gt;visitPage--&gt;checkin | 182 |\n",
       "| 5 | a | 2016-03-05 | 180 | 0 | 129 | 21 | searchResultPage--&gt;visitPage--&gt;checkin | 150 |\n",
       "| 6 | a | 2016-02-29 |  NA | 0 | 130 |  0 | searchResultPage                       | 130 |\n",
       "| 7 | a | 2016-03-03 |  60 | 4 | 106 | 12 | searchResultPage--&gt;visitPage--&gt;checkin | 118 |\n",
       "| 8 | a | 2016-03-03 |  NA | 0 | 113 |  0 | searchResultPage                       | 113 |\n",
       "| 9 | a | 2016-03-02 |  NA | 4 |  59 | 51 | searchResultPage--&gt;visitPage           | 110 |\n",
       "| 10 | a | 2016-03-07 |  NA | 0 | 106 |  0 | searchResultPage                       | 106 |\n",
       "\n"
      ],
      "text/plain": [
       "   user_group date       session_time minimum_n_results num_serp_visits\n",
       "1  a          2016-03-01  NA          0                 484            \n",
       "2  a          2016-03-03  NA          0                 221            \n",
       "3  a          2016-03-04  NA          0                 198            \n",
       "4  a          2016-03-04 180          8                 107            \n",
       "5  a          2016-03-05 180          0                 129            \n",
       "6  a          2016-02-29  NA          0                 130            \n",
       "7  a          2016-03-03  60          4                 106            \n",
       "8  a          2016-03-03  NA          0                 113            \n",
       "9  a          2016-03-02  NA          4                  59            \n",
       "10 a          2016-03-07  NA          0                 106            \n",
       "   num_results_clicked order_of_events                       \n",
       "1   0                  searchResultPage                      \n",
       "2   0                  searchResultPage                      \n",
       "3   0                  searchResultPage                      \n",
       "4  75                  searchResultPage-->visitPage-->checkin\n",
       "5  21                  searchResultPage-->visitPage-->checkin\n",
       "6   0                  searchResultPage                      \n",
       "7  12                  searchResultPage-->visitPage-->checkin\n",
       "8   0                  searchResultPage                      \n",
       "9  51                  searchResultPage-->visitPage          \n",
       "10  0                  searchResultPage                      \n",
       "   num_unique_pages_visited\n",
       "1  484                     \n",
       "2  221                     \n",
       "3  198                     \n",
       "4  182                     \n",
       "5  150                     \n",
       "6  130                     \n",
       "7  118                     \n",
       "8  113                     \n",
       "9  110                     \n",
       "10 106                     "
      ]
     },
     "metadata": {},
     "output_type": "display_data"
    }
   ],
   "source": [
    "events_session_group  %>% arrange(desc(num_unique_pages_visited)) %>% \n",
    "select(-c(session_id))  %>% head(10)"
   ]
  },
  {
   "cell_type": "markdown",
   "metadata": {},
   "source": [
    "### Here we see some odd behaviour of users in the top 3 sessions with maximum no. of pages visited, where the user never clicks on any result but makes only search queries (we can see that the order of events do not have any visitPage event), in my opinion, these are bots scraping links. "
   ]
  },
  {
   "cell_type": "code",
   "execution_count": 14,
   "metadata": {},
   "outputs": [
    {
     "name": "stderr",
     "output_type": "stream",
     "text": [
      "`summarise()` regrouping output by 'user_group' (override with `.groups` argument)\n",
      "\n"
     ]
    },
    {
     "data": {
      "text/html": [
       "<table>\n",
       "<caption>A grouped_df: 10 × 3</caption>\n",
       "<thead>\n",
       "\t<tr><th scope=col>user_group</th><th scope=col>order_of_events</th><th scope=col>count</th></tr>\n",
       "\t<tr><th scope=col>&lt;chr&gt;</th><th scope=col>&lt;chr&gt;</th><th scope=col>&lt;int&gt;</th></tr>\n",
       "</thead>\n",
       "<tbody>\n",
       "\t<tr><td>b</td><td>searchResultPage                      </td><td>31820</td></tr>\n",
       "\t<tr><td>a</td><td>searchResultPage--&gt;visitPage--&gt;checkin</td><td>17449</td></tr>\n",
       "\t<tr><td>a</td><td>searchResultPage                      </td><td> 9714</td></tr>\n",
       "\t<tr><td>b</td><td>searchResultPage--&gt;visitPage--&gt;checkin</td><td> 5723</td></tr>\n",
       "\t<tr><td>a</td><td><span style=white-space:pre-wrap>searchResultPage--&gt;visitPage          </span></td><td> 2228</td></tr>\n",
       "\t<tr><td>b</td><td><span style=white-space:pre-wrap>searchResultPage--&gt;visitPage          </span></td><td><span style=white-space:pre-wrap>  963</span></td></tr>\n",
       "\t<tr><td>b</td><td><span style=white-space:pre-wrap>visitPage--&gt;checkin                   </span></td><td><span style=white-space:pre-wrap>   51</span></td></tr>\n",
       "\t<tr><td>b</td><td><span style=white-space:pre-wrap>searchResultPage--&gt;checkin            </span></td><td><span style=white-space:pre-wrap>   20</span></td></tr>\n",
       "\t<tr><td>b</td><td>checkin                               </td><td>   15</td></tr>\n",
       "\t<tr><td>a</td><td>visitPage--&gt;checkin--&gt;searchResultPage</td><td><span style=white-space:pre-wrap>   12</span></td></tr>\n",
       "</tbody>\n",
       "</table>\n"
      ],
      "text/latex": [
       "A grouped\\_df: 10 × 3\n",
       "\\begin{tabular}{lll}\n",
       " user\\_group & order\\_of\\_events & count\\\\\n",
       " <chr> & <chr> & <int>\\\\\n",
       "\\hline\n",
       "\t b & searchResultPage                       & 31820\\\\\n",
       "\t a & searchResultPage-->visitPage-->checkin & 17449\\\\\n",
       "\t a & searchResultPage                       &  9714\\\\\n",
       "\t b & searchResultPage-->visitPage-->checkin &  5723\\\\\n",
       "\t a & searchResultPage-->visitPage           &  2228\\\\\n",
       "\t b & searchResultPage-->visitPage           &   963\\\\\n",
       "\t b & visitPage-->checkin                    &    51\\\\\n",
       "\t b & searchResultPage-->checkin             &    20\\\\\n",
       "\t b & checkin                                &    15\\\\\n",
       "\t a & visitPage-->checkin-->searchResultPage &    12\\\\\n",
       "\\end{tabular}\n"
      ],
      "text/markdown": [
       "\n",
       "A grouped_df: 10 × 3\n",
       "\n",
       "| user_group &lt;chr&gt; | order_of_events &lt;chr&gt; | count &lt;int&gt; |\n",
       "|---|---|---|\n",
       "| b | searchResultPage                       | 31820 |\n",
       "| a | searchResultPage--&gt;visitPage--&gt;checkin | 17449 |\n",
       "| a | searchResultPage                       |  9714 |\n",
       "| b | searchResultPage--&gt;visitPage--&gt;checkin |  5723 |\n",
       "| a | searchResultPage--&gt;visitPage           |  2228 |\n",
       "| b | searchResultPage--&gt;visitPage           |   963 |\n",
       "| b | visitPage--&gt;checkin                    |    51 |\n",
       "| b | searchResultPage--&gt;checkin             |    20 |\n",
       "| b | checkin                                |    15 |\n",
       "| a | visitPage--&gt;checkin--&gt;searchResultPage |    12 |\n",
       "\n"
      ],
      "text/plain": [
       "   user_group order_of_events                        count\n",
       "1  b          searchResultPage                       31820\n",
       "2  a          searchResultPage-->visitPage-->checkin 17449\n",
       "3  a          searchResultPage                        9714\n",
       "4  b          searchResultPage-->visitPage-->checkin  5723\n",
       "5  a          searchResultPage-->visitPage            2228\n",
       "6  b          searchResultPage-->visitPage             963\n",
       "7  b          visitPage-->checkin                       51\n",
       "8  b          searchResultPage-->checkin                20\n",
       "9  b          checkin                                   15\n",
       "10 a          visitPage-->checkin-->searchResultPage    12"
      ]
     },
     "metadata": {},
     "output_type": "display_data"
    }
   ],
   "source": [
    "events_session_group %>% \n",
    "    group_by(user_group, order_of_events) %>% \n",
    "    summarize(count = n()) %>% \n",
    "    arrange(desc(count))  %>% head(10)"
   ]
  },
  {
   "cell_type": "markdown",
   "metadata": {},
   "source": [
    "### This odd behaviour of users is further substantiated by the frequency of sessions where only the search result page is accessed. It is disproportionately high in users from group \"b\", and could be possible the most users from group \"b\" are not real humans!!\n",
    "\n",
    "\n",
    "### Also apart from the ideal order of events \"searchResultPage-->visitPage-->checkin\", the other type of order of events such as \"searchResultPage-->visitPage\",    \"visitPage-->checkin-->searchResultPage\",                                               searchResultPage-->checkin\"  &    \"checkin\" are there because the sampling duration of data collection is 10 seconds which is quite low, and users/bots can quickly move from one page to another without getting registered from all the activity they do"
   ]
  },
  {
   "cell_type": "markdown",
   "metadata": {},
   "source": [
    "### Let session length be approximately the time between the first event and the last event in a session. Choose a variable from the dataset and describe its relationship to session length. Visualize the relationship.\n"
   ]
  },
  {
   "cell_type": "code",
   "execution_count": 15,
   "metadata": {},
   "outputs": [],
   "source": [
    "correlation_matrix = events_session_group %>% \n",
    "  filter(!is.na(session_time) & !is.na(minimum_n_results)) %>% \n",
    "  select(session_time, minimum_n_results, num_serp_visits, \n",
    "         num_results_clicked, num_unique_pages_visited) %>% \n",
    "  cor() %>% round(4) %>% melt()"
   ]
  },
  {
   "cell_type": "code",
   "execution_count": 16,
   "metadata": {},
   "outputs": [
    {
     "data": {
      "image/png": "[encoded data removed]",
      "text/plain": [
       "plot without title"
      ]
     },
     "metadata": {
      "image/png": {
       "height": 420,
       "width": 420
      }
     },
     "output_type": "display_data"
    }
   ],
   "source": [
    "ggplot(data = correlation_matrix, aes(x=Var1, y=Var2, fill=value)) + \n",
    "  geom_tile() +\n",
    "  geom_text(aes(Var2, Var1, label = value), color = \"black\", size = 4) + \n",
    "  scale_fill_gradient2(low = \"red\", high = \"green\", \n",
    "                       midpoint = 0, limit = c(-1,1), space = \"Lab\", \n",
    "                       name=\"Correlation\") +\n",
    "  theme( axis.title.x = element_blank(), axis.title.y = element_blank(),\n",
    "         axis.text.x = element_text(angle = 90, face = \"bold\", size = 10),\n",
    "         axis.text.y = element_text(face = \"bold\", size = 10),\n",
    "         plot.title = element_text(hjust = 0.5)) +\n",
    "  ggtitle(\"Correlation Heatmap\")"
   ]
  },
  {
   "cell_type": "markdown",
   "metadata": {},
   "source": [
    "### As discussed about the odd behaviour of some sessions it is expected to have high correlation among no. of pages visited vs no. of times search page was visited, but we do NOT see any strong correlation for the session time for a user from any of the given variables. In my opinion most users who spend considerable amount of time in wikipedia are thouse who reads a page fully, hence going over multiple results or doing multiple searches does not help us identify that.  "
   ]
  },
  {
   "cell_type": "markdown",
   "metadata": {},
   "source": [
    "### What is our daily overall clickthrough rate? How does it vary between the groups?"
   ]
  },
  {
   "cell_type": "code",
   "execution_count": 17,
   "metadata": {},
   "outputs": [
    {
     "data": {
      "text/html": [
       "38.8839889457282"
      ],
      "text/latex": [
       "38.8839889457282"
      ],
      "text/markdown": [
       "38.8839889457282"
      ],
      "text/plain": [
       "[1] 38.88399"
      ]
     },
     "metadata": {},
     "output_type": "display_data"
    }
   ],
   "source": [
    "sum(events_session_group$num_results_clicked > 0)*100/length(events_session_group$num_results_clicked)"
   ]
  },
  {
   "cell_type": "markdown",
   "metadata": {},
   "source": [
    "#### Hence the overall clickthrough rate in the dataset is ~39%"
   ]
  },
  {
   "cell_type": "code",
   "execution_count": 18,
   "metadata": {},
   "outputs": [],
   "source": [
    "# Function to summarise clickthrough rate\n",
    "summarize_clickthrough_rate <- function(grouped_df){\n",
    "  grouped_df %>% \n",
    "  summarise(count = n(), \n",
    "            atleast_one_result_clicked = sum(num_results_clicked>0)) %>% \n",
    "    mutate(percentage_clickthrough = 100*(atleast_one_result_clicked/count)) %>% \n",
    "    ungroup() %>% as.data.frame()\n",
    "}"
   ]
  },
  {
   "cell_type": "code",
   "execution_count": 19,
   "metadata": {},
   "outputs": [
    {
     "name": "stderr",
     "output_type": "stream",
     "text": [
      "`summarise()` ungrouping output (override with `.groups` argument)\n",
      "\n"
     ]
    }
   ],
   "source": [
    "clickthrough_rate_overall = events_session_group %>% \n",
    "  group_by(user_group) %>%\n",
    "  summarize_clickthrough_rate()"
   ]
  },
  {
   "cell_type": "code",
   "execution_count": 20,
   "metadata": {},
   "outputs": [
    {
     "data": {
      "text/html": [
       "<table>\n",
       "<caption>A data.frame: 2 × 4</caption>\n",
       "<thead>\n",
       "\t<tr><th scope=col>user_group</th><th scope=col>count</th><th scope=col>atleast_one_result_clicked</th><th scope=col>percentage_clickthrough</th></tr>\n",
       "\t<tr><th scope=col>&lt;chr&gt;</th><th scope=col>&lt;int&gt;</th><th scope=col>&lt;int&gt;</th><th scope=col>&lt;dbl&gt;</th></tr>\n",
       "</thead>\n",
       "<tbody>\n",
       "\t<tr><td>a</td><td>29427</td><td>19706</td><td>66.96571</td></tr>\n",
       "\t<tr><td>b</td><td>38601</td><td> 6746</td><td>17.47623</td></tr>\n",
       "</tbody>\n",
       "</table>\n"
      ],
      "text/latex": [
       "A data.frame: 2 × 4\n",
       "\\begin{tabular}{llll}\n",
       " user\\_group & count & atleast\\_one\\_result\\_clicked & percentage\\_clickthrough\\\\\n",
       " <chr> & <int> & <int> & <dbl>\\\\\n",
       "\\hline\n",
       "\t a & 29427 & 19706 & 66.96571\\\\\n",
       "\t b & 38601 &  6746 & 17.47623\\\\\n",
       "\\end{tabular}\n"
      ],
      "text/markdown": [
       "\n",
       "A data.frame: 2 × 4\n",
       "\n",
       "| user_group &lt;chr&gt; | count &lt;int&gt; | atleast_one_result_clicked &lt;int&gt; | percentage_clickthrough &lt;dbl&gt; |\n",
       "|---|---|---|---|\n",
       "| a | 29427 | 19706 | 66.96571 |\n",
       "| b | 38601 |  6746 | 17.47623 |\n",
       "\n"
      ],
      "text/plain": [
       "  user_group count atleast_one_result_clicked percentage_clickthrough\n",
       "1 a          29427 19706                      66.96571               \n",
       "2 b          38601  6746                      17.47623               "
      ]
     },
     "metadata": {},
     "output_type": "display_data"
    }
   ],
   "source": [
    "clickthrough_rate_overall"
   ]
  },
  {
   "cell_type": "markdown",
   "metadata": {},
   "source": [
    "#### Clickthrough rate by users"
   ]
  },
  {
   "cell_type": "code",
   "execution_count": 21,
   "metadata": {},
   "outputs": [
    {
     "data": {
      "image/png": "[encoded data removed]",
      "text/plain": [
       "plot without title"
      ]
     },
     "metadata": {
      "image/png": {
       "height": 420,
       "width": 420
      }
     },
     "output_type": "display_data"
    }
   ],
   "source": [
    "ggplot(data= clickthrough_rate_overall, \n",
    "       aes(x=factor(user_group), y=percentage_clickthrough)) + \n",
    "  geom_bar(stat=\"identity\") + ylab(\"Clickthrough rate %\") + xlab(\"user group\") +\n",
    "  theme(axis.text.x = element_text(face = \"bold\", size = 10),\n",
    "        axis.text.y = element_text(face = \"bold\", size = 10),\n",
    "        plot.title = element_text(hjust = 0.5)) + \n",
    "  ggtitle(\"Clickthrough rate of users by group\")"
   ]
  },
  {
   "cell_type": "markdown",
   "metadata": {},
   "source": [
    "### We can notice that the clickthrough rate of users from group a is much higher as compared to users from group b. We earlier saw that users from group b are mostly visiting only the search page and not clicking on any links. Hence we can confirm they are most likely not real users but bots. "
   ]
  },
  {
   "cell_type": "code",
   "execution_count": 22,
   "metadata": {},
   "outputs": [
    {
     "name": "stderr",
     "output_type": "stream",
     "text": [
      "`summarise()` regrouping output by 'date' (override with `.groups` argument)\n",
      "\n"
     ]
    }
   ],
   "source": [
    "clickthrough_rate_by_date = events_session_group %>% \n",
    "  group_by(date, user_group) %>%\n",
    "  summarize_clickthrough_rate()"
   ]
  },
  {
   "cell_type": "code",
   "execution_count": 23,
   "metadata": {},
   "outputs": [
    {
     "data": {
      "text/html": [
       "<table>\n",
       "<caption>A data.frame: 18 × 5</caption>\n",
       "<thead>\n",
       "\t<tr><th scope=col>date</th><th scope=col>user_group</th><th scope=col>count</th><th scope=col>atleast_one_result_clicked</th><th scope=col>percentage_clickthrough</th></tr>\n",
       "\t<tr><th scope=col>&lt;date&gt;</th><th scope=col>&lt;chr&gt;</th><th scope=col>&lt;int&gt;</th><th scope=col>&lt;int&gt;</th><th scope=col>&lt;dbl&gt;</th></tr>\n",
       "</thead>\n",
       "<tbody>\n",
       "\t<tr><td>2016-02-29</td><td>a</td><td> 652</td><td> 442</td><td>67.79141</td></tr>\n",
       "\t<tr><td>2016-02-29</td><td>b</td><td> 722</td><td>  93</td><td>12.88089</td></tr>\n",
       "\t<tr><td>2016-03-01</td><td>a</td><td>4191</td><td>2811</td><td>67.07230</td></tr>\n",
       "\t<tr><td>2016-03-01</td><td>b</td><td>5090</td><td> 721</td><td>14.16503</td></tr>\n",
       "\t<tr><td>2016-03-02</td><td>a</td><td>4188</td><td>2870</td><td>68.52913</td></tr>\n",
       "\t<tr><td>2016-03-02</td><td>b</td><td>4956</td><td> 704</td><td>14.20500</td></tr>\n",
       "\t<tr><td>2016-03-03</td><td>a</td><td>4111</td><td>2770</td><td>67.38020</td></tr>\n",
       "\t<tr><td>2016-03-03</td><td>b</td><td>5135</td><td> 837</td><td>16.29990</td></tr>\n",
       "\t<tr><td>2016-03-04</td><td>a</td><td>3396</td><td>2300</td><td>67.72674</td></tr>\n",
       "\t<tr><td>2016-03-04</td><td>b</td><td>4602</td><td> 887</td><td>19.27423</td></tr>\n",
       "\t<tr><td>2016-03-05</td><td>a</td><td>2783</td><td>1828</td><td>65.68451</td></tr>\n",
       "\t<tr><td>2016-03-05</td><td>b</td><td>4006</td><td> 798</td><td>19.92012</td></tr>\n",
       "\t<tr><td>2016-03-06</td><td>a</td><td>3217</td><td>2150</td><td>66.83245</td></tr>\n",
       "\t<tr><td>2016-03-06</td><td>b</td><td>4676</td><td> 919</td><td>19.65355</td></tr>\n",
       "\t<tr><td>2016-03-07</td><td>a</td><td>4065</td><td>2648</td><td>65.14145</td></tr>\n",
       "\t<tr><td>2016-03-07</td><td>b</td><td>5569</td><td>1079</td><td>19.37511</td></tr>\n",
       "\t<tr><td>2016-03-08</td><td>a</td><td>2824</td><td>1887</td><td>66.82011</td></tr>\n",
       "\t<tr><td>2016-03-08</td><td>b</td><td>3845</td><td> 708</td><td>18.41352</td></tr>\n",
       "</tbody>\n",
       "</table>\n"
      ],
      "text/latex": [
       "A data.frame: 18 × 5\n",
       "\\begin{tabular}{lllll}\n",
       " date & user\\_group & count & atleast\\_one\\_result\\_clicked & percentage\\_clickthrough\\\\\n",
       " <date> & <chr> & <int> & <int> & <dbl>\\\\\n",
       "\\hline\n",
       "\t 2016-02-29 & a &  652 &  442 & 67.79141\\\\\n",
       "\t 2016-02-29 & b &  722 &   93 & 12.88089\\\\\n",
       "\t 2016-03-01 & a & 4191 & 2811 & 67.07230\\\\\n",
       "\t 2016-03-01 & b & 5090 &  721 & 14.16503\\\\\n",
       "\t 2016-03-02 & a & 4188 & 2870 & 68.52913\\\\\n",
       "\t 2016-03-02 & b & 4956 &  704 & 14.20500\\\\\n",
       "\t 2016-03-03 & a & 4111 & 2770 & 67.38020\\\\\n",
       "\t 2016-03-03 & b & 5135 &  837 & 16.29990\\\\\n",
       "\t 2016-03-04 & a & 3396 & 2300 & 67.72674\\\\\n",
       "\t 2016-03-04 & b & 4602 &  887 & 19.27423\\\\\n",
       "\t 2016-03-05 & a & 2783 & 1828 & 65.68451\\\\\n",
       "\t 2016-03-05 & b & 4006 &  798 & 19.92012\\\\\n",
       "\t 2016-03-06 & a & 3217 & 2150 & 66.83245\\\\\n",
       "\t 2016-03-06 & b & 4676 &  919 & 19.65355\\\\\n",
       "\t 2016-03-07 & a & 4065 & 2648 & 65.14145\\\\\n",
       "\t 2016-03-07 & b & 5569 & 1079 & 19.37511\\\\\n",
       "\t 2016-03-08 & a & 2824 & 1887 & 66.82011\\\\\n",
       "\t 2016-03-08 & b & 3845 &  708 & 18.41352\\\\\n",
       "\\end{tabular}\n"
      ],
      "text/markdown": [
       "\n",
       "A data.frame: 18 × 5\n",
       "\n",
       "| date &lt;date&gt; | user_group &lt;chr&gt; | count &lt;int&gt; | atleast_one_result_clicked &lt;int&gt; | percentage_clickthrough &lt;dbl&gt; |\n",
       "|---|---|---|---|---|\n",
       "| 2016-02-29 | a |  652 |  442 | 67.79141 |\n",
       "| 2016-02-29 | b |  722 |   93 | 12.88089 |\n",
       "| 2016-03-01 | a | 4191 | 2811 | 67.07230 |\n",
       "| 2016-03-01 | b | 5090 |  721 | 14.16503 |\n",
       "| 2016-03-02 | a | 4188 | 2870 | 68.52913 |\n",
       "| 2016-03-02 | b | 4956 |  704 | 14.20500 |\n",
       "| 2016-03-03 | a | 4111 | 2770 | 67.38020 |\n",
       "| 2016-03-03 | b | 5135 |  837 | 16.29990 |\n",
       "| 2016-03-04 | a | 3396 | 2300 | 67.72674 |\n",
       "| 2016-03-04 | b | 4602 |  887 | 19.27423 |\n",
       "| 2016-03-05 | a | 2783 | 1828 | 65.68451 |\n",
       "| 2016-03-05 | b | 4006 |  798 | 19.92012 |\n",
       "| 2016-03-06 | a | 3217 | 2150 | 66.83245 |\n",
       "| 2016-03-06 | b | 4676 |  919 | 19.65355 |\n",
       "| 2016-03-07 | a | 4065 | 2648 | 65.14145 |\n",
       "| 2016-03-07 | b | 5569 | 1079 | 19.37511 |\n",
       "| 2016-03-08 | a | 2824 | 1887 | 66.82011 |\n",
       "| 2016-03-08 | b | 3845 |  708 | 18.41352 |\n",
       "\n"
      ],
      "text/plain": [
       "   date       user_group count atleast_one_result_clicked\n",
       "1  2016-02-29 a           652   442                      \n",
       "2  2016-02-29 b           722    93                      \n",
       "3  2016-03-01 a          4191  2811                      \n",
       "4  2016-03-01 b          5090   721                      \n",
       "5  2016-03-02 a          4188  2870                      \n",
       "6  2016-03-02 b          4956   704                      \n",
       "7  2016-03-03 a          4111  2770                      \n",
       "8  2016-03-03 b          5135   837                      \n",
       "9  2016-03-04 a          3396  2300                      \n",
       "10 2016-03-04 b          4602   887                      \n",
       "11 2016-03-05 a          2783  1828                      \n",
       "12 2016-03-05 b          4006   798                      \n",
       "13 2016-03-06 a          3217  2150                      \n",
       "14 2016-03-06 b          4676   919                      \n",
       "15 2016-03-07 a          4065  2648                      \n",
       "16 2016-03-07 b          5569  1079                      \n",
       "17 2016-03-08 a          2824  1887                      \n",
       "18 2016-03-08 b          3845   708                      \n",
       "   percentage_clickthrough\n",
       "1  67.79141               \n",
       "2  12.88089               \n",
       "3  67.07230               \n",
       "4  14.16503               \n",
       "5  68.52913               \n",
       "6  14.20500               \n",
       "7  67.38020               \n",
       "8  16.29990               \n",
       "9  67.72674               \n",
       "10 19.27423               \n",
       "11 65.68451               \n",
       "12 19.92012               \n",
       "13 66.83245               \n",
       "14 19.65355               \n",
       "15 65.14145               \n",
       "16 19.37511               \n",
       "17 66.82011               \n",
       "18 18.41352               "
      ]
     },
     "metadata": {},
     "output_type": "display_data"
    }
   ],
   "source": [
    "clickthrough_rate_by_date"
   ]
  },
  {
   "cell_type": "code",
   "execution_count": 24,
   "metadata": {},
   "outputs": [
    {
     "data": {
      "image/png": "[encoded data removed]",
      "text/plain": [
       "plot without title"
      ]
     },
     "metadata": {
      "image/png": {
       "height": 420,
       "width": 420
      }
     },
     "output_type": "display_data"
    }
   ],
   "source": [
    "ggplot(data= clickthrough_rate_by_date, \n",
    "       aes(x=factor(user_group), y=percentage_clickthrough)) + \n",
    "  geom_bar(stat=\"identity\") + ylab(\"Clickthrough rate %\") + xlab(\"user group\") + \n",
    "  theme(axis.text.x = element_text(face = \"bold\", size = 10),\n",
    "        axis.text.y = element_text(face = \"bold\", size = 10),\n",
    "        plot.title = element_text(hjust = 0.5)) +\n",
    "  facet_wrap(\"date\", scales = \"free\") +\n",
    "  ggtitle(\"Clickthrough rate of users by group by date\")"
   ]
  },
  {
   "cell_type": "markdown",
   "metadata": {},
   "source": [
    "### On a day to day basis this behaviour from the 2 groups of users don't change, and users from group a consistently have a higher clickthroug rate."
   ]
  },
  {
   "cell_type": "markdown",
   "metadata": {},
   "source": [
    "### What is our daily overall zero results rate? How does it vary between the groups?"
   ]
  },
  {
   "cell_type": "code",
   "execution_count": 25,
   "metadata": {},
   "outputs": [
    {
     "data": {
      "text/html": [
       "20.9281472334921"
      ],
      "text/latex": [
       "20.9281472334921"
      ],
      "text/markdown": [
       "20.9281472334921"
      ],
      "text/plain": [
       "[1] 20.92815"
      ]
     },
     "metadata": {},
     "output_type": "display_data"
    }
   ],
   "source": [
    "sum(events_session_group$minimum_n_results == 0, na.rm = T)*100/length(events_session_group$minimum_n_results)"
   ]
  },
  {
   "cell_type": "markdown",
   "metadata": {},
   "source": [
    "#### The overall zero result from all the searches is ~21%"
   ]
  },
  {
   "cell_type": "code",
   "execution_count": 26,
   "metadata": {},
   "outputs": [],
   "source": [
    "summarize_zero_results <- function(grouped_df){\n",
    "  grouped_df %>% \n",
    "    summarise(count = n(), \n",
    "            num_zero_results = sum(minimum_n_results==0, na.rm = T)) %>% \n",
    "    mutate(percentage_zero_results = 100*(num_zero_results/count))\n",
    "}"
   ]
  },
  {
   "cell_type": "code",
   "execution_count": 27,
   "metadata": {},
   "outputs": [
    {
     "name": "stderr",
     "output_type": "stream",
     "text": [
      "`summarise()` ungrouping output (override with `.groups` argument)\n",
      "\n"
     ]
    }
   ],
   "source": [
    "zero_results_overall = events_session_group %>% \n",
    "  group_by(user_group) %>%\n",
    "  summarize_zero_results()"
   ]
  },
  {
   "cell_type": "code",
   "execution_count": 28,
   "metadata": {},
   "outputs": [
    {
     "data": {
      "text/html": [
       "<table>\n",
       "<caption>A tibble: 2 × 4</caption>\n",
       "<thead>\n",
       "\t<tr><th scope=col>user_group</th><th scope=col>count</th><th scope=col>num_zero_results</th><th scope=col>percentage_zero_results</th></tr>\n",
       "\t<tr><th scope=col>&lt;chr&gt;</th><th scope=col>&lt;int&gt;</th><th scope=col>&lt;int&gt;</th><th scope=col>&lt;dbl&gt;</th></tr>\n",
       "</thead>\n",
       "<tbody>\n",
       "\t<tr><td>a</td><td>29427</td><td>6822</td><td>23.18279</td></tr>\n",
       "\t<tr><td>b</td><td>38601</td><td>7415</td><td>19.20935</td></tr>\n",
       "</tbody>\n",
       "</table>\n"
      ],
      "text/latex": [
       "A tibble: 2 × 4\n",
       "\\begin{tabular}{llll}\n",
       " user\\_group & count & num\\_zero\\_results & percentage\\_zero\\_results\\\\\n",
       " <chr> & <int> & <int> & <dbl>\\\\\n",
       "\\hline\n",
       "\t a & 29427 & 6822 & 23.18279\\\\\n",
       "\t b & 38601 & 7415 & 19.20935\\\\\n",
       "\\end{tabular}\n"
      ],
      "text/markdown": [
       "\n",
       "A tibble: 2 × 4\n",
       "\n",
       "| user_group &lt;chr&gt; | count &lt;int&gt; | num_zero_results &lt;int&gt; | percentage_zero_results &lt;dbl&gt; |\n",
       "|---|---|---|---|\n",
       "| a | 29427 | 6822 | 23.18279 |\n",
       "| b | 38601 | 7415 | 19.20935 |\n",
       "\n"
      ],
      "text/plain": [
       "  user_group count num_zero_results percentage_zero_results\n",
       "1 a          29427 6822             23.18279               \n",
       "2 b          38601 7415             19.20935               "
      ]
     },
     "metadata": {},
     "output_type": "display_data"
    }
   ],
   "source": [
    "zero_results_overall"
   ]
  },
  {
   "cell_type": "code",
   "execution_count": 29,
   "metadata": {},
   "outputs": [
    {
     "data": {
      "image/png": "[encoded data removed]",
      "text/plain": [
       "plot without title"
      ]
     },
     "metadata": {
      "image/png": {
       "height": 420,
       "width": 420
      }
     },
     "output_type": "display_data"
    }
   ],
   "source": [
    "ggplot(data= zero_results_overall, \n",
    "       aes(x=factor(user_group), y=percentage_zero_results)) + \n",
    "  geom_bar(stat=\"identity\") + ylab(\"zero results %\") + xlab(\"user group\") +\n",
    "  theme(axis.text.x = element_text(face = \"bold\", size = 10),\n",
    "        axis.text.y = element_text(face = \"bold\", size = 10),\n",
    "        plot.title = element_text(hjust = 0.5)) +\n",
    "  ggtitle(\"Zero results shown to users by group\")"
   ]
  },
  {
   "cell_type": "markdown",
   "metadata": {},
   "source": [
    "### The overall zero results by both the group of users a & b are quite similar at 23% & 19% respectively."
   ]
  },
  {
   "cell_type": "code",
   "execution_count": 30,
   "metadata": {},
   "outputs": [
    {
     "name": "stderr",
     "output_type": "stream",
     "text": [
      "`summarise()` regrouping output by 'date' (override with `.groups` argument)\n",
      "\n"
     ]
    }
   ],
   "source": [
    "zero_results_by_date = events_session_group %>% \n",
    "  group_by(date, user_group) %>%\n",
    "  summarize_zero_results()"
   ]
  },
  {
   "cell_type": "code",
   "execution_count": 31,
   "metadata": {},
   "outputs": [
    {
     "data": {
      "text/html": [
       "<table>\n",
       "<caption>A grouped_df: 18 × 5</caption>\n",
       "<thead>\n",
       "\t<tr><th scope=col>date</th><th scope=col>user_group</th><th scope=col>count</th><th scope=col>num_zero_results</th><th scope=col>percentage_zero_results</th></tr>\n",
       "\t<tr><th scope=col>&lt;date&gt;</th><th scope=col>&lt;chr&gt;</th><th scope=col>&lt;int&gt;</th><th scope=col>&lt;int&gt;</th><th scope=col>&lt;dbl&gt;</th></tr>\n",
       "</thead>\n",
       "<tbody>\n",
       "\t<tr><td>2016-02-29</td><td>a</td><td> 652</td><td> 141</td><td>21.62577</td></tr>\n",
       "\t<tr><td>2016-02-29</td><td>b</td><td> 722</td><td> 151</td><td>20.91413</td></tr>\n",
       "\t<tr><td>2016-03-01</td><td>a</td><td>4191</td><td> 945</td><td>22.54832</td></tr>\n",
       "\t<tr><td>2016-03-01</td><td>b</td><td>5090</td><td> 991</td><td>19.46955</td></tr>\n",
       "\t<tr><td>2016-03-02</td><td>a</td><td>4188</td><td> 934</td><td>22.30181</td></tr>\n",
       "\t<tr><td>2016-03-02</td><td>b</td><td>4956</td><td> 935</td><td>18.86602</td></tr>\n",
       "\t<tr><td>2016-03-03</td><td>a</td><td>4111</td><td> 958</td><td>23.30333</td></tr>\n",
       "\t<tr><td>2016-03-03</td><td>b</td><td>5135</td><td> 970</td><td>18.88997</td></tr>\n",
       "\t<tr><td>2016-03-04</td><td>a</td><td>3396</td><td> 748</td><td>22.02591</td></tr>\n",
       "\t<tr><td>2016-03-04</td><td>b</td><td>4602</td><td> 846</td><td>18.38331</td></tr>\n",
       "\t<tr><td>2016-03-05</td><td>a</td><td>2783</td><td> 668</td><td>24.00287</td></tr>\n",
       "\t<tr><td>2016-03-05</td><td>b</td><td>4006</td><td> 827</td><td>20.64403</td></tr>\n",
       "\t<tr><td>2016-03-06</td><td>a</td><td>3217</td><td> 763</td><td>23.71775</td></tr>\n",
       "\t<tr><td>2016-03-06</td><td>b</td><td>4676</td><td> 885</td><td>18.92643</td></tr>\n",
       "\t<tr><td>2016-03-07</td><td>a</td><td>4065</td><td> 980</td><td>24.10824</td></tr>\n",
       "\t<tr><td>2016-03-07</td><td>b</td><td>5569</td><td>1058</td><td>18.99802</td></tr>\n",
       "\t<tr><td>2016-03-08</td><td>a</td><td>2824</td><td> 685</td><td>24.25637</td></tr>\n",
       "\t<tr><td>2016-03-08</td><td>b</td><td>3845</td><td> 752</td><td>19.55787</td></tr>\n",
       "</tbody>\n",
       "</table>\n"
      ],
      "text/latex": [
       "A grouped\\_df: 18 × 5\n",
       "\\begin{tabular}{lllll}\n",
       " date & user\\_group & count & num\\_zero\\_results & percentage\\_zero\\_results\\\\\n",
       " <date> & <chr> & <int> & <int> & <dbl>\\\\\n",
       "\\hline\n",
       "\t 2016-02-29 & a &  652 &  141 & 21.62577\\\\\n",
       "\t 2016-02-29 & b &  722 &  151 & 20.91413\\\\\n",
       "\t 2016-03-01 & a & 4191 &  945 & 22.54832\\\\\n",
       "\t 2016-03-01 & b & 5090 &  991 & 19.46955\\\\\n",
       "\t 2016-03-02 & a & 4188 &  934 & 22.30181\\\\\n",
       "\t 2016-03-02 & b & 4956 &  935 & 18.86602\\\\\n",
       "\t 2016-03-03 & a & 4111 &  958 & 23.30333\\\\\n",
       "\t 2016-03-03 & b & 5135 &  970 & 18.88997\\\\\n",
       "\t 2016-03-04 & a & 3396 &  748 & 22.02591\\\\\n",
       "\t 2016-03-04 & b & 4602 &  846 & 18.38331\\\\\n",
       "\t 2016-03-05 & a & 2783 &  668 & 24.00287\\\\\n",
       "\t 2016-03-05 & b & 4006 &  827 & 20.64403\\\\\n",
       "\t 2016-03-06 & a & 3217 &  763 & 23.71775\\\\\n",
       "\t 2016-03-06 & b & 4676 &  885 & 18.92643\\\\\n",
       "\t 2016-03-07 & a & 4065 &  980 & 24.10824\\\\\n",
       "\t 2016-03-07 & b & 5569 & 1058 & 18.99802\\\\\n",
       "\t 2016-03-08 & a & 2824 &  685 & 24.25637\\\\\n",
       "\t 2016-03-08 & b & 3845 &  752 & 19.55787\\\\\n",
       "\\end{tabular}\n"
      ],
      "text/markdown": [
       "\n",
       "A grouped_df: 18 × 5\n",
       "\n",
       "| date &lt;date&gt; | user_group &lt;chr&gt; | count &lt;int&gt; | num_zero_results &lt;int&gt; | percentage_zero_results &lt;dbl&gt; |\n",
       "|---|---|---|---|---|\n",
       "| 2016-02-29 | a |  652 |  141 | 21.62577 |\n",
       "| 2016-02-29 | b |  722 |  151 | 20.91413 |\n",
       "| 2016-03-01 | a | 4191 |  945 | 22.54832 |\n",
       "| 2016-03-01 | b | 5090 |  991 | 19.46955 |\n",
       "| 2016-03-02 | a | 4188 |  934 | 22.30181 |\n",
       "| 2016-03-02 | b | 4956 |  935 | 18.86602 |\n",
       "| 2016-03-03 | a | 4111 |  958 | 23.30333 |\n",
       "| 2016-03-03 | b | 5135 |  970 | 18.88997 |\n",
       "| 2016-03-04 | a | 3396 |  748 | 22.02591 |\n",
       "| 2016-03-04 | b | 4602 |  846 | 18.38331 |\n",
       "| 2016-03-05 | a | 2783 |  668 | 24.00287 |\n",
       "| 2016-03-05 | b | 4006 |  827 | 20.64403 |\n",
       "| 2016-03-06 | a | 3217 |  763 | 23.71775 |\n",
       "| 2016-03-06 | b | 4676 |  885 | 18.92643 |\n",
       "| 2016-03-07 | a | 4065 |  980 | 24.10824 |\n",
       "| 2016-03-07 | b | 5569 | 1058 | 18.99802 |\n",
       "| 2016-03-08 | a | 2824 |  685 | 24.25637 |\n",
       "| 2016-03-08 | b | 3845 |  752 | 19.55787 |\n",
       "\n"
      ],
      "text/plain": [
       "   date       user_group count num_zero_results percentage_zero_results\n",
       "1  2016-02-29 a           652   141             21.62577               \n",
       "2  2016-02-29 b           722   151             20.91413               \n",
       "3  2016-03-01 a          4191   945             22.54832               \n",
       "4  2016-03-01 b          5090   991             19.46955               \n",
       "5  2016-03-02 a          4188   934             22.30181               \n",
       "6  2016-03-02 b          4956   935             18.86602               \n",
       "7  2016-03-03 a          4111   958             23.30333               \n",
       "8  2016-03-03 b          5135   970             18.88997               \n",
       "9  2016-03-04 a          3396   748             22.02591               \n",
       "10 2016-03-04 b          4602   846             18.38331               \n",
       "11 2016-03-05 a          2783   668             24.00287               \n",
       "12 2016-03-05 b          4006   827             20.64403               \n",
       "13 2016-03-06 a          3217   763             23.71775               \n",
       "14 2016-03-06 b          4676   885             18.92643               \n",
       "15 2016-03-07 a          4065   980             24.10824               \n",
       "16 2016-03-07 b          5569  1058             18.99802               \n",
       "17 2016-03-08 a          2824   685             24.25637               \n",
       "18 2016-03-08 b          3845   752             19.55787               "
      ]
     },
     "metadata": {},
     "output_type": "display_data"
    }
   ],
   "source": [
    "zero_results_by_date"
   ]
  },
  {
   "cell_type": "code",
   "execution_count": 32,
   "metadata": {},
   "outputs": [
    {
     "data": {
      "image/png": "[encoded data removed]",
      "text/plain": [
       "plot without title"
      ]
     },
     "metadata": {
      "image/png": {
       "height": 420,
       "width": 420
      }
     },
     "output_type": "display_data"
    }
   ],
   "source": [
    "ggplot(data= zero_results_by_date, \n",
    "       aes(x=factor(user_group), y=percentage_zero_results)) + \n",
    "  geom_bar(stat=\"identity\") + ylab(\"zero results %\") + xlab(\"user group\") + \n",
    "  theme(axis.text.x = element_text(face = \"bold\", size = 10),\n",
    "        axis.text.y = element_text(face = \"bold\", size = 10),\n",
    "        plot.title = element_text(hjust = 0.5)) +\n",
    "  facet_wrap(\"date\", scales = \"free\") +\n",
    "  ggtitle(\"Zero results shown to users by group by date\")"
   ]
  },
  {
   "cell_type": "markdown",
   "metadata": {},
   "source": [
    "### The overall zero results by both the group of users a & b remain similar consistently throughout all days at a being only slightly higher than b "
   ]
  },
  {
   "cell_type": "markdown",
   "metadata": {},
   "source": [
    "# Key Take aways"
   ]
  },
  {
   "cell_type": "markdown",
   "metadata": {},
   "source": [
    "## 1. the overall clickthrough rate in the whole dataset is ~39%, but the clickthrough rate varies a lot between the 2 user groups. While user group \"a\" have consistently around 65% to 68% and user group b around 18% to 21% accross all the days"
   ]
  },
  {
   "cell_type": "markdown",
   "metadata": {},
   "source": [
    "## 2. Most of the users ~65% click on the first result, followed by ~14% on the second result. After the 7th result it is negligible. This behaviour remain consistent accross all the days"
   ]
  },
  {
   "cell_type": "markdown",
   "metadata": {},
   "source": [
    "## 3.  the overall zero result rate in the whole dataset is ~21%, it does not vary much between the 2 user groups. While user group \"a\" have consistently around 21% to 23% and user group b around 19% to 20% accross all the days"
   ]
  },
  {
   "cell_type": "markdown",
   "metadata": {},
   "source": [
    "## 4. The session length does not have any strong correlation with any of the given or computed features in the dataset. Although we can see a very small correlation between session length and no. of times the search page was visited in a single session. "
   ]
  },
  {
   "cell_type": "markdown",
   "metadata": {},
   "source": [
    "# Other Findings"
   ]
  },
  {
   "cell_type": "markdown",
   "metadata": {},
   "source": [
    "## 1. Users from group b seem mostly like bots, scraping links since they have a disproportionately low clickthrough rate and seem to mostly visit the search page.  "
   ]
  },
  {
   "cell_type": "markdown",
   "metadata": {},
   "source": [
    "## 2. The sampling rate of data collection is 10 seconds, which is quite low, as the users can easily move from one page to another before 10 seconds and many of their activities will not be registered."
   ]
  },
  {
   "cell_type": "code",
   "execution_count": null,
   "metadata": {},
   "outputs": [],
   "source": []
  }
 ],
 "metadata": {
  "kernelspec": {
   "display_name": "R",
   "language": "R",
   "name": "ir"
  },
  "language_info": {
   "codemirror_mode": "r",
   "file_extension": ".r",
   "mimetype": "text/x-r-source",
   "name": "R",
   "pygments_lexer": "r",
   "version": "3.6.3"
  }
 },
 "nbformat": 4,
 "nbformat_minor": 4
}
